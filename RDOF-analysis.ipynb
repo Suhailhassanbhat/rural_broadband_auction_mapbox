{
 "cells": [
  {
   "cell_type": "code",
   "execution_count": 1,
   "metadata": {},
   "outputs": [],
   "source": [
    "import pandas as pd\n",
    "import urllib3\n",
    "import requests\n",
    "import numpy as np\n",
    "import datetime\n",
    "import requests\n",
    "import re\n",
    "import matplotlib\n",
    "import matplotlib.pyplot as plt\n",
    "from sklearn.linear_model import LinearRegression\n",
    "import statsmodels.api as sm\n",
    "import seaborn as sns\n",
    "pd.set_option('display.max_columns', None)\n",
    "pd.set_option('display.max_rows', None)\n",
    "pd.options.display.html.use_mathjax = False"
   ]
  },
  {
   "cell_type": "code",
   "execution_count": 3,
   "metadata": {},
   "outputs": [],
   "source": [
    "fundsByBidders = pd.read_csv(\"winning_bidders.csv\")"
   ]
  },
  {
   "cell_type": "code",
   "execution_count": 4,
   "metadata": {},
   "outputs": [
    {
     "name": "stdout",
     "output_type": "stream",
     "text": [
      "<class 'pandas.core.frame.DataFrame'>\n",
      "RangeIndex: 484 entries, 0 to 483\n",
      "Data columns (total 6 columns):\n",
      " #   Column                  Non-Null Count  Dtype  \n",
      "---  ------                  --------------  -----  \n",
      " 0   auction_id              484 non-null    int64  \n",
      " 1   bidder                  484 non-null    object \n",
      " 2   frn                     484 non-null    int64  \n",
      " 3   state                   484 non-null    object \n",
      " 4   total_assigned_support  484 non-null    float64\n",
      " 5   locations_assigned      484 non-null    int64  \n",
      "dtypes: float64(1), int64(3), object(2)\n",
      "memory usage: 22.8+ KB\n"
     ]
    }
   ],
   "source": [
    "fundsByBidders.info()"
   ]
  },
  {
   "cell_type": "code",
   "execution_count": 5,
   "metadata": {},
   "outputs": [],
   "source": [
    "totalByBidders = fundsByBidders.groupby(['bidder'\n",
    "                                        ]).total_assigned_support.sum().reset_index().sort_values(\n",
    "    \"total_assigned_support\", ascending=False)"
   ]
  },
  {
   "cell_type": "code",
   "execution_count": 6,
   "metadata": {},
   "outputs": [],
   "source": [
    "totalByBidders[\"pct_total_funds\"] = totalByBidders['total_assigned_support'] * 100 /(totalByBidders['total_assigned_support'].sum())"
   ]
  },
  {
   "cell_type": "code",
   "execution_count": 7,
   "metadata": {},
   "outputs": [
    {
     "data": {
      "text/html": [
       "<div>\n",
       "<style scoped>\n",
       "    .dataframe tbody tr th:only-of-type {\n",
       "        vertical-align: middle;\n",
       "    }\n",
       "\n",
       "    .dataframe tbody tr th {\n",
       "        vertical-align: top;\n",
       "    }\n",
       "\n",
       "    .dataframe thead th {\n",
       "        text-align: right;\n",
       "    }\n",
       "</style>\n",
       "<table border=\"1\" class=\"dataframe tex2jax_ignore\">\n",
       "  <thead>\n",
       "    <tr style=\"text-align: right;\">\n",
       "      <th></th>\n",
       "      <th>auction_id</th>\n",
       "      <th>bidder</th>\n",
       "      <th>frn</th>\n",
       "      <th>state</th>\n",
       "      <th>total_assigned_support</th>\n",
       "      <th>locations_assigned</th>\n",
       "    </tr>\n",
       "  </thead>\n",
       "  <tbody>\n",
       "    <tr>\n",
       "      <th>0</th>\n",
       "      <td>904</td>\n",
       "      <td>4-Corners Consortium</td>\n",
       "      <td>29719283</td>\n",
       "      <td>NM</td>\n",
       "      <td>259803.00</td>\n",
       "      <td>635</td>\n",
       "    </tr>\n",
       "    <tr>\n",
       "      <th>1</th>\n",
       "      <td>904</td>\n",
       "      <td>AB Indiana LLC</td>\n",
       "      <td>21994686</td>\n",
       "      <td>FL</td>\n",
       "      <td>66830.41</td>\n",
       "      <td>261</td>\n",
       "    </tr>\n",
       "    <tr>\n",
       "      <th>2</th>\n",
       "      <td>904</td>\n",
       "      <td>ACT</td>\n",
       "      <td>29754652</td>\n",
       "      <td>MS</td>\n",
       "      <td>162213.60</td>\n",
       "      <td>925</td>\n",
       "    </tr>\n",
       "    <tr>\n",
       "      <th>3</th>\n",
       "      <td>904</td>\n",
       "      <td>AMG Technology Investment Group LLC</td>\n",
       "      <td>21701891</td>\n",
       "      <td>IA</td>\n",
       "      <td>11263788.57</td>\n",
       "      <td>36228</td>\n",
       "    </tr>\n",
       "    <tr>\n",
       "      <th>4</th>\n",
       "      <td>904</td>\n",
       "      <td>AMG Technology Investment Group LLC</td>\n",
       "      <td>21701891</td>\n",
       "      <td>IL</td>\n",
       "      <td>19309883.99</td>\n",
       "      <td>68921</td>\n",
       "    </tr>\n",
       "  </tbody>\n",
       "</table>\n",
       "</div>"
      ],
      "text/plain": [
       "   auction_id                               bidder       frn state  \\\n",
       "0         904                 4-Corners Consortium  29719283    NM   \n",
       "1         904                       AB Indiana LLC  21994686    FL   \n",
       "2         904                                  ACT  29754652    MS   \n",
       "3         904  AMG Technology Investment Group LLC  21701891    IA   \n",
       "4         904  AMG Technology Investment Group LLC  21701891    IL   \n",
       "\n",
       "   total_assigned_support  locations_assigned  \n",
       "0               259803.00                 635  \n",
       "1                66830.41                 261  \n",
       "2               162213.60                 925  \n",
       "3             11263788.57               36228  \n",
       "4             19309883.99               68921  "
      ]
     },
     "execution_count": 7,
     "metadata": {},
     "output_type": "execute_result"
    }
   ],
   "source": [
    "fundsByBidders.head()"
   ]
  },
  {
   "cell_type": "code",
   "execution_count": 8,
   "metadata": {},
   "outputs": [
    {
     "data": {
      "text/plain": [
       "0.92306887149"
      ]
     },
     "execution_count": 8,
     "metadata": {},
     "output_type": "execute_result"
    }
   ],
   "source": [
    "fundsByBidders.total_assigned_support.sum()/1000000000"
   ]
  },
  {
   "cell_type": "markdown",
   "metadata": {},
   "source": [
    "## Ohio Valley Analysis"
   ]
  },
  {
   "cell_type": "code",
   "execution_count": 9,
   "metadata": {},
   "outputs": [],
   "source": [
    "ov_filtered = fundsByBidders[(fundsByBidders['state'] == 'KY') \n",
    "                             | (fundsByBidders['state'] == 'OH') \n",
    "                             | (fundsByBidders['state'] == 'WV')]"
   ]
  },
  {
   "cell_type": "code",
   "execution_count": 10,
   "metadata": {},
   "outputs": [],
   "source": [
    "ov_bidders = ov_filtered.groupby(['bidder']).total_assigned_support.sum().reset_index().sort_values(\"total_assigned_support\", ascending=False)"
   ]
  },
  {
   "cell_type": "code",
   "execution_count": 11,
   "metadata": {},
   "outputs": [
    {
     "data": {
      "text/html": [
       "<div>\n",
       "<style scoped>\n",
       "    .dataframe tbody tr th:only-of-type {\n",
       "        vertical-align: middle;\n",
       "    }\n",
       "\n",
       "    .dataframe tbody tr th {\n",
       "        vertical-align: top;\n",
       "    }\n",
       "\n",
       "    .dataframe thead th {\n",
       "        text-align: right;\n",
       "    }\n",
       "</style>\n",
       "<table border=\"1\" class=\"dataframe tex2jax_ignore\">\n",
       "  <thead>\n",
       "    <tr style=\"text-align: right;\">\n",
       "      <th></th>\n",
       "      <th>bidder</th>\n",
       "      <th>total_assigned_support</th>\n",
       "    </tr>\n",
       "  </thead>\n",
       "  <tbody>\n",
       "    <tr>\n",
       "      <th>10</th>\n",
       "      <td>Frontier Communications Corporation, DIP</td>\n",
       "      <td>24762639.53</td>\n",
       "    </tr>\n",
       "    <tr>\n",
       "      <th>2</th>\n",
       "      <td>CCO Holdings, LLC</td>\n",
       "      <td>16466496.47</td>\n",
       "    </tr>\n",
       "    <tr>\n",
       "      <th>5</th>\n",
       "      <td>Citynet West Virginia, LLC</td>\n",
       "      <td>5351685.83</td>\n",
       "    </tr>\n",
       "    <tr>\n",
       "      <th>24</th>\n",
       "      <td>Windstream Services LLC, Debtor-In-Possession</td>\n",
       "      <td>4450861.89</td>\n",
       "    </tr>\n",
       "    <tr>\n",
       "      <th>8</th>\n",
       "      <td>Connect Everyone LLC</td>\n",
       "      <td>3827365.99</td>\n",
       "    </tr>\n",
       "  </tbody>\n",
       "</table>\n",
       "</div>"
      ],
      "text/plain": [
       "                                           bidder  total_assigned_support\n",
       "10       Frontier Communications Corporation, DIP             24762639.53\n",
       "2                               CCO Holdings, LLC             16466496.47\n",
       "5                      Citynet West Virginia, LLC              5351685.83\n",
       "24  Windstream Services LLC, Debtor-In-Possession              4450861.89\n",
       "8                            Connect Everyone LLC              3827365.99"
      ]
     },
     "execution_count": 11,
     "metadata": {},
     "output_type": "execute_result"
    }
   ],
   "source": [
    "ov_bidders.head()"
   ]
  },
  {
   "cell_type": "code",
   "execution_count": 11,
   "metadata": {},
   "outputs": [
    {
     "data": {
      "text/html": [
       "<div>\n",
       "<style scoped>\n",
       "    .dataframe tbody tr th:only-of-type {\n",
       "        vertical-align: middle;\n",
       "    }\n",
       "\n",
       "    .dataframe tbody tr th {\n",
       "        vertical-align: top;\n",
       "    }\n",
       "\n",
       "    .dataframe thead th {\n",
       "        text-align: right;\n",
       "    }\n",
       "</style>\n",
       "<table border=\"1\" class=\"dataframe tex2jax_ignore\">\n",
       "  <thead>\n",
       "    <tr style=\"text-align: right;\">\n",
       "      <th></th>\n",
       "      <th>state</th>\n",
       "      <th>total_assigned_support</th>\n",
       "    </tr>\n",
       "  </thead>\n",
       "  <tbody>\n",
       "    <tr>\n",
       "      <th>2</th>\n",
       "      <td>WV</td>\n",
       "      <td>36206666.02</td>\n",
       "    </tr>\n",
       "    <tr>\n",
       "      <th>1</th>\n",
       "      <td>OH</td>\n",
       "      <td>17003820.51</td>\n",
       "    </tr>\n",
       "    <tr>\n",
       "      <th>0</th>\n",
       "      <td>KY</td>\n",
       "      <td>14897876.72</td>\n",
       "    </tr>\n",
       "  </tbody>\n",
       "</table>\n",
       "</div>"
      ],
      "text/plain": [
       "  state  total_assigned_support\n",
       "2    WV             36206666.02\n",
       "1    OH             17003820.51\n",
       "0    KY             14897876.72"
      ]
     },
     "execution_count": 11,
     "metadata": {},
     "output_type": "execute_result"
    }
   ],
   "source": [
    "ov_filtered.groupby(['state']).total_assigned_support.sum().reset_index().sort_values(\"total_assigned_support\", ascending=False)"
   ]
  },
  {
   "cell_type": "markdown",
   "metadata": {},
   "source": [
    "Annually, $36.2 million will go to bidders to build broadband mainly in rural areas of West Vigrinia, while telecommunication companies would get a support $17 million in Ohio and $15 million in Kentucky. "
   ]
  },
  {
   "cell_type": "markdown",
   "metadata": {},
   "source": [
    "With $24.8 million annual support, Frontier Communications, that filed for Bankruptcy last year, was the biggest bidder in the Ohio Valley in the Phase I auctions that started late October, 2020\n",
    "Another company that is also in the middle of bankruptcy, Windstream Services LLC, also won about $4.5 million worth of bids in the month-long auction."
   ]
  },
  {
   "cell_type": "code",
   "execution_count": 18,
   "metadata": {},
   "outputs": [
    {
     "data": {
      "text/plain": [
       "24.76263953"
      ]
     },
     "execution_count": 18,
     "metadata": {},
     "output_type": "execute_result"
    }
   ],
   "source": [
    "24762639.53/1000000"
   ]
  },
  {
   "cell_type": "markdown",
   "metadata": {},
   "source": [
    "## Census block analysis"
   ]
  },
  {
   "cell_type": "code",
   "execution_count": 12,
   "metadata": {},
   "outputs": [],
   "source": [
    "# block_data = pd.read_csv(\"all_assigned_census_blocks.csv\")"
   ]
  },
  {
   "cell_type": "code",
   "execution_count": 13,
   "metadata": {},
   "outputs": [],
   "source": [
    "# block_data.info()"
   ]
  },
  {
   "cell_type": "code",
   "execution_count": 14,
   "metadata": {},
   "outputs": [],
   "source": [
    "# ov_filtered = block_data[(block_data['state'] == 'KY'\n",
    "#                              ) | (block_data['state'] == 'OH') | (block_data['state'] == 'WV')]"
   ]
  },
  {
   "cell_type": "code",
   "execution_count": 15,
   "metadata": {},
   "outputs": [],
   "source": [
    "# ov_filtered.info()"
   ]
  },
  {
   "cell_type": "code",
   "execution_count": 16,
   "metadata": {},
   "outputs": [],
   "source": [
    "# ov_filtered.head()"
   ]
  },
  {
   "cell_type": "code",
   "execution_count": 17,
   "metadata": {},
   "outputs": [],
   "source": [
    "# ov_filtered.block_id.value_counts()"
   ]
  },
  {
   "cell_type": "code",
   "execution_count": 18,
   "metadata": {},
   "outputs": [],
   "source": [
    "# all_bids = pd.read_csv(\"all_bid_results.csv\")"
   ]
  },
  {
   "cell_type": "code",
   "execution_count": 19,
   "metadata": {},
   "outputs": [],
   "source": [
    "# ovBids = all_bids[(all_bids['state'] == 'KY'\n",
    "#                              ) | (all_bids['state'] == 'OH') | (all_bids['state'] == 'WV')]"
   ]
  },
  {
   "cell_type": "code",
   "execution_count": 20,
   "metadata": {},
   "outputs": [],
   "source": [
    "# all_bids.head()"
   ]
  },
  {
   "cell_type": "code",
   "execution_count": 21,
   "metadata": {},
   "outputs": [],
   "source": [
    "# all_bids.assigned_support.sum()/1000000"
   ]
  },
  {
   "cell_type": "code",
   "execution_count": 22,
   "metadata": {},
   "outputs": [],
   "source": [
    "# ovBids_filtered = ovBids[ovBids.assigned_support > 0].reset_index()"
   ]
  },
  {
   "cell_type": "code",
   "execution_count": 23,
   "metadata": {},
   "outputs": [],
   "source": [
    "# ovBids_filtered['t+l_weight'].value_counts()"
   ]
  },
  {
   "cell_type": "code",
   "execution_count": 24,
   "metadata": {
    "scrolled": true
   },
   "outputs": [],
   "source": [
    "# ovBids_filtered.columns"
   ]
  },
  {
   "cell_type": "code",
   "execution_count": 25,
   "metadata": {},
   "outputs": [],
   "source": [
    "# ovBids_final = ovBids_filtered[[\"bidder\", 'frn', \"item\", \"state\", \"county\", \"census_id\", \"t+l_weight\", \"assigned_support\", 'locations']]"
   ]
  },
  {
   "cell_type": "code",
   "execution_count": 26,
   "metadata": {},
   "outputs": [],
   "source": [
    "# ovBids_final[\"county_name\"] = ovBids_final[\"county\"] + \", \" + ovBids_final['state']"
   ]
  },
  {
   "cell_type": "code",
   "execution_count": 27,
   "metadata": {},
   "outputs": [],
   "source": [
    "# ovBids_final.to_csv(\"ov_bid_results.csv\")"
   ]
  },
  {
   "cell_type": "markdown",
   "metadata": {},
   "source": [
    "## Final analysis"
   ]
  },
  {
   "cell_type": "code",
   "execution_count": 29,
   "metadata": {},
   "outputs": [],
   "source": [
    "#read ohio valley filtered csvfile\n",
    "# bid_data = pd.read_csv(\"ov_bid_results.csv\").drop(columns={\"Unnamed: 0\"})\n",
    "# bid_data.dtypes"
   ]
  },
  {
   "cell_type": "code",
   "execution_count": 30,
   "metadata": {},
   "outputs": [],
   "source": [
    "# bid_data.info()"
   ]
  },
  {
   "cell_type": "code",
   "execution_count": 31,
   "metadata": {},
   "outputs": [],
   "source": [
    "# bid_data['census_id'] = bid_data['census_id'].astype(str)"
   ]
  },
  {
   "cell_type": "code",
   "execution_count": 32,
   "metadata": {},
   "outputs": [],
   "source": [
    "# bid_data.info()"
   ]
  },
  {
   "cell_type": "code",
   "execution_count": 33,
   "metadata": {},
   "outputs": [],
   "source": [
    "# bid_data.to_csv(\"ov_bid_results.csv\", index=False)"
   ]
  },
  {
   "cell_type": "code",
   "execution_count": 34,
   "metadata": {},
   "outputs": [],
   "source": [
    "# bid_data.assigned_support.sum()/100000"
   ]
  },
  {
   "cell_type": "code",
   "execution_count": 35,
   "metadata": {},
   "outputs": [],
   "source": [
    "df=pd.read_csv(\"broadband_deployment.csv\")"
   ]
  },
  {
   "cell_type": "code",
   "execution_count": 36,
   "metadata": {},
   "outputs": [],
   "source": [
    "# df['Census Block FIPS Code'].value_counts()"
   ]
  },
  {
   "cell_type": "code",
   "execution_count": 37,
   "metadata": {},
   "outputs": [
    {
     "data": {
      "text/plain": [
       "4541748"
      ]
     },
     "execution_count": 37,
     "metadata": {},
     "output_type": "execute_result"
    }
   ],
   "source": [
    "df['Census Block FIPS Code'].count()"
   ]
  },
  {
   "cell_type": "code",
   "execution_count": 38,
   "metadata": {},
   "outputs": [],
   "source": [
    "df=df.drop_duplicates()"
   ]
  },
  {
   "cell_type": "code",
   "execution_count": 39,
   "metadata": {},
   "outputs": [],
   "source": [
    "df= df[[\"Census Block FIPS Code\", \"Technology Code\", \"Max Advertised Downstream Speed (mbps)\"]]"
   ]
  },
  {
   "cell_type": "code",
   "execution_count": 41,
   "metadata": {},
   "outputs": [],
   "source": [
    "# df.to_csv(\"broadband_deployment.csv\", index=False)"
   ]
  },
  {
   "cell_type": "code",
   "execution_count": 43,
   "metadata": {},
   "outputs": [
    {
     "data": {
      "text/plain": [
       "0.000       849507\n",
       "25.000      781107\n",
       "2.000       685059\n",
       "35.000      398947\n",
       "100.000     339621\n",
       "940.000     308163\n",
       "6.000       214231\n",
       "18.000      173552\n",
       "1000.000    117172\n",
       "10.000       97705\n",
       "12.000       82156\n",
       "50.000       72597\n",
       "15.000       66269\n",
       "3.000        64747\n",
       "5.000        44303\n",
       "987.000      20569\n",
       "200.000      16519\n",
       "20.000       16431\n",
       "1.500        15649\n",
       "300.000      13374\n",
       "1.000        13010\n",
       "30.000       13009\n",
       "9.000        12725\n",
       "75.000       11643\n",
       "115.000      11266\n",
       "0.768        10524\n",
       "400.000       8403\n",
       "90.000        7237\n",
       "40.000        6562\n",
       "45.000        5257\n",
       "60.000        5178\n",
       "70.000        4370\n",
       "16.000        4306\n",
       "4.000         3365\n",
       "250.000       2605\n",
       "750.000       1614\n",
       "500.000       1572\n",
       "150.000       1230\n",
       "0.512         1169\n",
       "8.000         1136\n",
       "900.000        416\n",
       "24.000         353\n",
       "134.000        153\n",
       "7.000           90\n",
       "999.000         74\n",
       "102.000         40\n",
       "31.000          35\n",
       "26.000          30\n",
       "0.416           26\n",
       "1.100           18\n",
       "0.256            4\n",
       "11.000           3\n",
       "0.384            2\n",
       "17.000           2\n",
       "65.000           2\n",
       "14.000           1\n",
       "81.000           1\n",
       "600.000          1\n",
       "535.000          1\n",
       "22.000           1\n",
       "101.000          1\n",
       "99.000           1\n",
       "51.000           1\n",
       "0.510            1\n",
       "125.000          1\n",
       "80.000           1\n",
       "Name: Max Advertised Downstream Speed (mbps), dtype: int64"
      ]
     },
     "execution_count": 43,
     "metadata": {},
     "output_type": "execute_result"
    }
   ],
   "source": [
    "df['Max Advertised Downstream Speed (mbps)'].value_counts()"
   ]
  },
  {
   "cell_type": "code",
   "execution_count": 44,
   "metadata": {},
   "outputs": [
    {
     "data": {
      "text/plain": [
       "60    2532431\n",
       "70     556089\n",
       "43     369035\n",
       "11     313673\n",
       "10     284120\n",
       "12     217338\n",
       "50     160098\n",
       "42      60192\n",
       "30       6669\n",
       "41       2384\n",
       "20       1555\n",
       "40       1534\n",
       "Name: Technology Code, dtype: int64"
      ]
     },
     "execution_count": 44,
     "metadata": {},
     "output_type": "execute_result"
    }
   ],
   "source": [
    "df['Technology Code'].value_counts()"
   ]
  },
  {
   "cell_type": "code",
   "execution_count": null,
   "metadata": {},
   "outputs": [],
   "source": []
  }
 ],
 "metadata": {
  "kernelspec": {
   "display_name": "Python 3",
   "language": "python",
   "name": "python3"
  },
  "language_info": {
   "codemirror_mode": {
    "name": "ipython",
    "version": 3
   },
   "file_extension": ".py",
   "mimetype": "text/x-python",
   "name": "python",
   "nbconvert_exporter": "python",
   "pygments_lexer": "ipython3",
   "version": "3.8.5"
  }
 },
 "nbformat": 4,
 "nbformat_minor": 4
}
